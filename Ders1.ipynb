{
  "nbformat": 4,
  "nbformat_minor": 0,
  "metadata": {
    "colab": {
      "provenance": [],
      "authorship_tag": "ABX9TyNmpvE49UbsBmPba51QtysA",
      "include_colab_link": true
    },
    "kernelspec": {
      "name": "python3",
      "display_name": "Python 3"
    },
    "language_info": {
      "name": "python"
    }
  },
  "cells": [
    {
      "cell_type": "markdown",
      "metadata": {
        "id": "view-in-github",
        "colab_type": "text"
      },
      "source": [
        "<a href=\"https://colab.research.google.com/github/Talhaeser1/talhaeser/blob/main/Ders1.ipynb\" target=\"_parent\"><img src=\"https://colab.research.google.com/assets/colab-badge.svg\" alt=\"Open In Colab\"/></a>"
      ]
    },
    {
      "cell_type": "markdown",
      "source": [
        "print fonksiyonu çalışması"
      ],
      "metadata": {
        "id": "Q7ciStWGbXq9"
      }
    },
    {
      "cell_type": "code",
      "execution_count": null,
      "metadata": {
        "id": "PRAWLJ1DTNz3",
        "colab": {
          "base_uri": "https://localhost:8080/"
        },
        "outputId": "e0240834-ee87-40c9-b1b5-6c25d1cbb1df"
      },
      "outputs": [
        {
          "output_type": "stream",
          "name": "stdout",
          "text": [
            "3.12.12 (main, Oct 10 2025, 08:52:57) [GCC 11.4.0]\n"
          ]
        }
      ],
      "source": [
        "import sys\n",
        "print(sys.version)"
      ]
    },
    {
      "cell_type": "code",
      "source": [
        "from google.colab import drive\n",
        "drive.mount('/content/drive')"
      ],
      "metadata": {
        "colab": {
          "base_uri": "https://localhost:8080/"
        },
        "id": "U-RSes7UaXF5",
        "outputId": "d00195e7-57b1-4166-f94d-8c03005e10b2"
      },
      "execution_count": null,
      "outputs": [
        {
          "output_type": "stream",
          "name": "stdout",
          "text": [
            "Mounted at /content/drive\n"
          ]
        }
      ]
    },
    {
      "cell_type": "code",
      "source": [
        "import os\n",
        "os.chdir('/content/drive/My Drive/VERIYAPILARI_PYTHON')\n",
        "!pwd"
      ],
      "metadata": {
        "colab": {
          "base_uri": "https://localhost:8080/"
        },
        "id": "xXEULyxAa0MM",
        "outputId": "d1cf4230-a4a0-4b6c-9d0e-17bb2721a8d6"
      },
      "execution_count": null,
      "outputs": [
        {
          "output_type": "stream",
          "name": "stdout",
          "text": [
            "/content/drive/My Drive/VERIYAPILARI_PYTHON\n"
          ]
        }
      ]
    },
    {
      "cell_type": "code",
      "source": [
        "adana1 = 10\n",
        "Mersin_33 = 20\n",
        "batman72 = 30\n",
        "_ankara6 = 40\n",
        "degisken_4 = 60\n",
        "\n",
        "\n",
        "\n",
        "print(adana1)\n",
        "print(Mersin_33)\n",
        "print(batman72)\n",
        "print(_ankara6)"
      ],
      "metadata": {
        "colab": {
          "base_uri": "https://localhost:8080/"
        },
        "id": "_FU4DHcJsloH",
        "outputId": "c533d30b-d35b-4ebc-862a-09a10203f4dc"
      },
      "execution_count": null,
      "outputs": [
        {
          "output_type": "stream",
          "name": "stdout",
          "text": [
            "10\n",
            "20\n",
            "30\n",
            "40\n"
          ]
        }
      ]
    },
    {
      "cell_type": "code",
      "source": [
        "degisken1 = 10\n",
        "degisken_4 = 20"
      ],
      "metadata": {
        "id": "t73SXOkzw0EG"
      },
      "execution_count": null,
      "outputs": []
    },
    {
      "cell_type": "code",
      "source": [
        "x = 5\n",
        "y = 'Merhaba Dünya'\n",
        "print(x)\n",
        "print(y)"
      ],
      "metadata": {
        "colab": {
          "base_uri": "https://localhost:8080/"
        },
        "id": "YPNpmf0GxfBz",
        "outputId": "1b334a22-5b17-4de3-ffc5-4517042c8f14"
      },
      "execution_count": null,
      "outputs": [
        {
          "output_type": "stream",
          "name": "stdout",
          "text": [
            "5\n",
            "Merhaba Dünya\n"
          ]
        }
      ]
    },
    {
      "cell_type": "code",
      "source": [
        "y = 10.333\n",
        "print(y , type(y))"
      ],
      "metadata": {
        "id": "-bLoR7JDxgBw",
        "colab": {
          "base_uri": "https://localhost:8080/"
        },
        "collapsed": true,
        "outputId": "c046981d-babe-4d1d-ae44-8b4f4d73fd0d"
      },
      "execution_count": null,
      "outputs": [
        {
          "output_type": "stream",
          "name": "stdout",
          "text": [
            "10.333 <class 'float'>\n"
          ]
        }
      ]
    },
    {
      "cell_type": "code",
      "source": [
        "y = 10.222\n",
        "x = int(y)\n",
        "print(x, type(x))"
      ],
      "metadata": {
        "colab": {
          "base_uri": "https://localhost:8080/"
        },
        "id": "YiC62i4IgT0h",
        "outputId": "f2070b1d-daea-4f73-c6b8-de58dfdac00c"
      },
      "execution_count": null,
      "outputs": [
        {
          "output_type": "stream",
          "name": "stdout",
          "text": [
            "10 <class 'int'>\n"
          ]
        }
      ]
    },
    {
      "cell_type": "code",
      "source": [
        "d = True\n",
        "e = False\n",
        "print(type(d))\n",
        "print(type(e))"
      ],
      "metadata": {
        "colab": {
          "base_uri": "https://localhost:8080/"
        },
        "id": "delkBqMikSlq",
        "outputId": "7e647b32-f9c3-44c7-ff88-2215f7ff6a7a"
      },
      "execution_count": null,
      "outputs": [
        {
          "output_type": "stream",
          "name": "stdout",
          "text": [
            "<class 'bool'>\n",
            "<class 'bool'>\n"
          ]
        }
      ]
    },
    {
      "cell_type": "code",
      "source": [
        "liste = [1,2,3,4,5]\n",
        "print(type(liste), liste)"
      ],
      "metadata": {
        "colab": {
          "base_uri": "https://localhost:8080/"
        },
        "id": "LaWCkZNVkXFw",
        "outputId": "c49c3b5a-dacc-4980-f70d-381a705d95c4"
      },
      "execution_count": null,
      "outputs": [
        {
          "output_type": "stream",
          "name": "stdout",
          "text": [
            "<class 'list'> [1, 2, 3, 4, 5]\n"
          ]
        }
      ]
    },
    {
      "cell_type": "code",
      "source": [],
      "metadata": {
        "id": "FGChun6Rsliw"
      },
      "execution_count": null,
      "outputs": []
    },
    {
      "cell_type": "code",
      "source": [
        "notlar = {\n",
        "    \"ali\" : 85,\n",
        "    \"veli\" : 90,\n",
        "    \"ayşe\" : 78\n",
        "}\n",
        "\n",
        "notlar[\"fatma\"] = 95\n",
        "notlar[\"ali\"] = 78\n",
        "notlar[\"ayşe\"] = 85\n",
        "\n",
        "# print(notlar)\n",
        "print(notlar.keys())\n",
        "print(notlar.values())\n",
        "print(notlar.items())"
      ],
      "metadata": {
        "colab": {
          "base_uri": "https://localhost:8080/"
        },
        "id": "W8D2htVplnen",
        "outputId": "884fc932-584c-422f-a688-2d323f810fdf"
      },
      "execution_count": null,
      "outputs": [
        {
          "output_type": "stream",
          "name": "stdout",
          "text": [
            "dict_keys(['ali', 'veli', 'ayşe', 'fatma'])\n",
            "dict_values([78, 90, 85, 95])\n",
            "dict_items([('ali', 78), ('veli', 90), ('ayşe', 85), ('fatma', 95)])\n"
          ]
        }
      ]
    },
    {
      "cell_type": "code",
      "source": [
        "kodyazanlar = {\"ahmet\", \"mehmet\", \"ayşe\"}\n",
        "kodyazamayanlar = { \"ayşe\", \"fatma\",\"veli\"}\n",
        "\n",
        "ortak = kodyazanlar.intersection(kodyazamayanlar)\n",
        "print(\"kafasına göre takılan arkadaşlar\", ortak)\n",
        "\n",
        "kod_yazmayanlar = kodyazanlar.difference(kodyazamayanlar)\n",
        "print(\"kod yazmayanlar\", kod_yazmayanlar)\n",
        "\n",
        "imzalistesi = kodyazanlar.union(kodyazamayanlar)\n",
        "print(\"imzalar\", imzalistesi)\n"
      ],
      "metadata": {
        "colab": {
          "base_uri": "https://localhost:8080/"
        },
        "id": "2MUE4uy9tJOT",
        "outputId": "a604c0b2-3c24-4289-f1f1-6c735d6ec7e5"
      },
      "execution_count": null,
      "outputs": [
        {
          "output_type": "stream",
          "name": "stdout",
          "text": [
            "kafasına göre takılan arkadaşlar {'ayşe'}\n",
            "kod yazmayanlar {'ahmet', 'mehmet'}\n",
            "imzalar {'ahmet', 'mehmet', 'veli', 'ayşe', 'fatma'}\n"
          ]
        }
      ]
    },
    {
      "cell_type": "code",
      "source": [
        "giris = input(\"lütfen bir sayi giriniz:\")\n",
        "print(giris)\n",
        "try:\n",
        "  numara = float(giris)\n",
        "  print(\"Girilen sayı:\",numara)\n",
        "except ValueError:\n",
        "  print(\"hatalı bilgi lütfen sayı giriniz\")"
      ],
      "metadata": {
        "colab": {
          "base_uri": "https://localhost:8080/",
          "height": 356
        },
        "id": "mcv7eN1Cwq8Y",
        "outputId": "d34573cd-d9a4-4846-f652-59444e90de7e"
      },
      "execution_count": null,
      "outputs": [
        {
          "output_type": "error",
          "ename": "KeyboardInterrupt",
          "evalue": "Interrupted by user",
          "traceback": [
            "\u001b[0;31m---------------------------------------------------------------------------\u001b[0m",
            "\u001b[0;31mKeyboardInterrupt\u001b[0m                         Traceback (most recent call last)",
            "\u001b[0;32m/tmp/ipython-input-3035134392.py\u001b[0m in \u001b[0;36m<cell line: 0>\u001b[0;34m()\u001b[0m\n\u001b[0;32m----> 1\u001b[0;31m \u001b[0mgiris\u001b[0m \u001b[0;34m=\u001b[0m \u001b[0minput\u001b[0m\u001b[0;34m(\u001b[0m\u001b[0;34m\"lütfen bir sayi giriniz:\"\u001b[0m\u001b[0;34m)\u001b[0m\u001b[0;34m\u001b[0m\u001b[0;34m\u001b[0m\u001b[0m\n\u001b[0m\u001b[1;32m      2\u001b[0m \u001b[0mprint\u001b[0m\u001b[0;34m(\u001b[0m\u001b[0mgiris\u001b[0m\u001b[0;34m)\u001b[0m\u001b[0;34m\u001b[0m\u001b[0;34m\u001b[0m\u001b[0m\n\u001b[1;32m      3\u001b[0m \u001b[0;32mtry\u001b[0m\u001b[0;34m:\u001b[0m\u001b[0;34m\u001b[0m\u001b[0;34m\u001b[0m\u001b[0m\n\u001b[1;32m      4\u001b[0m   \u001b[0mnumara\u001b[0m \u001b[0;34m=\u001b[0m \u001b[0mfloat\u001b[0m\u001b[0;34m(\u001b[0m\u001b[0mgiris\u001b[0m\u001b[0;34m)\u001b[0m\u001b[0;34m\u001b[0m\u001b[0;34m\u001b[0m\u001b[0m\n\u001b[1;32m      5\u001b[0m   \u001b[0mprint\u001b[0m\u001b[0;34m(\u001b[0m\u001b[0;34m\"Girilen sayı:\"\u001b[0m\u001b[0;34m,\u001b[0m\u001b[0mnumara\u001b[0m\u001b[0;34m)\u001b[0m\u001b[0;34m\u001b[0m\u001b[0;34m\u001b[0m\u001b[0m\n",
            "\u001b[0;32m/usr/local/lib/python3.12/dist-packages/ipykernel/kernelbase.py\u001b[0m in \u001b[0;36mraw_input\u001b[0;34m(self, prompt)\u001b[0m\n\u001b[1;32m   1175\u001b[0m                 \u001b[0;34m\"raw_input was called, but this frontend does not support input requests.\"\u001b[0m\u001b[0;34m\u001b[0m\u001b[0;34m\u001b[0m\u001b[0m\n\u001b[1;32m   1176\u001b[0m             )\n\u001b[0;32m-> 1177\u001b[0;31m         return self._input_request(\n\u001b[0m\u001b[1;32m   1178\u001b[0m             \u001b[0mstr\u001b[0m\u001b[0;34m(\u001b[0m\u001b[0mprompt\u001b[0m\u001b[0;34m)\u001b[0m\u001b[0;34m,\u001b[0m\u001b[0;34m\u001b[0m\u001b[0;34m\u001b[0m\u001b[0m\n\u001b[1;32m   1179\u001b[0m             \u001b[0mself\u001b[0m\u001b[0;34m.\u001b[0m\u001b[0m_parent_ident\u001b[0m\u001b[0;34m[\u001b[0m\u001b[0;34m\"shell\"\u001b[0m\u001b[0;34m]\u001b[0m\u001b[0;34m,\u001b[0m\u001b[0;34m\u001b[0m\u001b[0;34m\u001b[0m\u001b[0m\n",
            "\u001b[0;32m/usr/local/lib/python3.12/dist-packages/ipykernel/kernelbase.py\u001b[0m in \u001b[0;36m_input_request\u001b[0;34m(self, prompt, ident, parent, password)\u001b[0m\n\u001b[1;32m   1217\u001b[0m             \u001b[0;32mexcept\u001b[0m \u001b[0mKeyboardInterrupt\u001b[0m\u001b[0;34m:\u001b[0m\u001b[0;34m\u001b[0m\u001b[0;34m\u001b[0m\u001b[0m\n\u001b[1;32m   1218\u001b[0m                 \u001b[0;31m# re-raise KeyboardInterrupt, to truncate traceback\u001b[0m\u001b[0;34m\u001b[0m\u001b[0;34m\u001b[0m\u001b[0m\n\u001b[0;32m-> 1219\u001b[0;31m                 \u001b[0;32mraise\u001b[0m \u001b[0mKeyboardInterrupt\u001b[0m\u001b[0;34m(\u001b[0m\u001b[0;34m\"Interrupted by user\"\u001b[0m\u001b[0;34m)\u001b[0m \u001b[0;32mfrom\u001b[0m \u001b[0;32mNone\u001b[0m\u001b[0;34m\u001b[0m\u001b[0;34m\u001b[0m\u001b[0m\n\u001b[0m\u001b[1;32m   1220\u001b[0m             \u001b[0;32mexcept\u001b[0m \u001b[0mException\u001b[0m\u001b[0;34m:\u001b[0m\u001b[0;34m\u001b[0m\u001b[0;34m\u001b[0m\u001b[0m\n\u001b[1;32m   1221\u001b[0m                 \u001b[0mself\u001b[0m\u001b[0;34m.\u001b[0m\u001b[0mlog\u001b[0m\u001b[0;34m.\u001b[0m\u001b[0mwarning\u001b[0m\u001b[0;34m(\u001b[0m\u001b[0;34m\"Invalid Message:\"\u001b[0m\u001b[0;34m,\u001b[0m \u001b[0mexc_info\u001b[0m\u001b[0;34m=\u001b[0m\u001b[0;32mTrue\u001b[0m\u001b[0;34m)\u001b[0m\u001b[0;34m\u001b[0m\u001b[0;34m\u001b[0m\u001b[0m\n",
            "\u001b[0;31mKeyboardInterrupt\u001b[0m: Interrupted by user"
          ]
        }
      ]
    },
    {
      "cell_type": "code",
      "source": [
        "import random\n",
        "\n",
        "sayi = random.random\n",
        "print(f\"random girilen sayi : {sayi()}\")\n",
        "\n",
        "rastgele2 = random.randint(1,100)\n",
        "print(rastgele2)"
      ],
      "metadata": {
        "id": "mGb1kQQx34XO"
      },
      "execution_count": null,
      "outputs": []
    },
    {
      "cell_type": "code",
      "source": [
        "mil = float(input(\"Mil bilgisi giriniz:\"))\n",
        "km = mil * 1.60934\n",
        "print(f\"{mil} mil = {km} km\")\n",
        "\n"
      ],
      "metadata": {
        "id": "jvwkLekqyi8K"
      },
      "execution_count": null,
      "outputs": []
    },
    {
      "cell_type": "code",
      "source": [
        "a = 0\n",
        "if a > 0:\n",
        "  a = a +1\n",
        "print(a)"
      ],
      "metadata": {
        "id": "N49FVFKyyOQj"
      },
      "execution_count": null,
      "outputs": []
    },
    {
      "cell_type": "code",
      "source": [
        "for c in range (1,11):\n",
        "  print(c)\n"
      ],
      "metadata": {
        "id": "FlGr1jLoy3Oh"
      },
      "execution_count": null,
      "outputs": []
    },
    {
      "cell_type": "code",
      "source": [
        "print(\"Günlük çalışma saatinizi ve ücretinizi giriniz\")\n",
        "\n",
        "saat = float(input('Çalışma saati'))\n",
        "ucret = float(input('Saatlik ücret'))\n",
        "\n",
        "brutmaas = saat * ucret\n",
        "aylıkucret = brutmaas * 30\n",
        "\n",
        "print(f\"Günlük brut maaşınız {brutmaas} TL\")\n",
        "print(f\"Aylık çalışma ücreti {aylıkucret} TL\")"
      ],
      "metadata": {
        "id": "oXf_kMKezmRO"
      },
      "execution_count": null,
      "outputs": []
    },
    {
      "cell_type": "code",
      "source": [
        "sayi = int(input(\"sayı giriniz:\"))\n",
        "binler = sayi // 1000\n",
        "yuzler = (sayi - (binler * 1000)) // 100\n",
        "onlar = (sayi - (binler * 1000 + yuzler * 100)) // 10\n",
        "birler = sayi % 10\n",
        "# bu ders de ki kodlar degil\n",
        "print(f\"binler basamağı {binler}\")\n",
        "print(f\"yüzler basamağı {yuzler}\")\n",
        "print(f\"onlar basamağı {onlar}\")\n",
        "print(f\"birler basamağı {birler}\")\n",
        "yeni_sayi = binler * 100 + yuzler * 1000 + onlar * 1 + birler\n",
        "print(f\"yeni sayı {yeni_sayi}\")"
      ],
      "metadata": {
        "id": "K1tuE_kw5NPx"
      },
      "execution_count": null,
      "outputs": []
    },
    {
      "cell_type": "code",
      "source": [
        "metin = 'python'\n",
        "print(f\"metnin uzunlugu {len(metin)}\")\n",
        "print(f\"Buyuk harfli hali {metin.upper()}\")\n",
        "print(f\"metnin küçük harfi {metin.lower()}\")"
      ],
      "metadata": {
        "id": "ms_RGJHFHwzz"
      },
      "execution_count": null,
      "outputs": []
    },
    {
      "cell_type": "code",
      "source": [
        "a = 4\n",
        "b = 1\n",
        "if a < b:\n",
        "  print(a)\n",
        "else :\n",
        "  print(b)\n",
        "\n",
        "a = 5\n",
        "b ="
      ],
      "metadata": {
        "id": "MVr7XjzM60xU"
      },
      "execution_count": null,
      "outputs": []
    },
    {
      "cell_type": "code",
      "source": [
        "# bunu draw.io da şemasını yaptık\n",
        "a = 5\n",
        "b = 4\n",
        "c = 0\n",
        "if a > 0 and b > 0:\n",
        "  c = a + b\n",
        "  c = a * a + c\n",
        "print(c)"
      ],
      "metadata": {
        "id": "pImtTBUA9T6U"
      },
      "execution_count": null,
      "outputs": []
    },
    {
      "cell_type": "code",
      "source": [
        "a = 5\n",
        "b = 4\n",
        "c = 4\n",
        "if a > 0 and b < 0:\n",
        "  c = a * b + b\n",
        "print(c)"
      ],
      "metadata": {
        "id": "imFbEoPvG6MO"
      },
      "execution_count": null,
      "outputs": []
    },
    {
      "cell_type": "code",
      "source": [
        "a = 4\n",
        "b = 1\n",
        "c = 9\n",
        "sonuc = 0\n",
        "if a>0:\n",
        "  sonuc = sonuc + 1\n",
        "  sonuc = a * c - b\n",
        "else:\n",
        "  sonuc = sonuc - 1\n",
        "  sonuc = a / c + b\n",
        "print(sonuc)"
      ],
      "metadata": {
        "id": "XkwNuE4mIjCE"
      },
      "execution_count": null,
      "outputs": []
    },
    {
      "cell_type": "code",
      "source": [
        "for i in range (11):\n",
        "  print(i)\n",
        "\n",
        "for i in (1,2,3,4,5,6,7,8,9,):\n",
        "  print(i)\n",
        "\n",
        "for i in range (11) :\n",
        "  print(i)\n",
        "\n",
        "for i in range (1,11):\n",
        "  print(i)"
      ],
      "metadata": {
        "id": "3cB28Wp5LnrX",
        "collapsed": true
      },
      "execution_count": null,
      "outputs": []
    },
    {
      "cell_type": "code",
      "source": [
        "for sayi in range (1,11):\n",
        "  if sayi == 3 :\n",
        "    continue  # 3 ü atla\n",
        "  if sayi == 7:\n",
        "    break # 7 yi almadan devam et\n",
        "  print(sayi)"
      ],
      "metadata": {
        "id": "Cvp6miYwgiPF"
      },
      "execution_count": null,
      "outputs": []
    },
    {
      "cell_type": "code",
      "source": [
        "sayi = 3\n",
        "toplam = 0\n",
        "while sayi < 51:\n",
        "  # print(sayi)\n",
        "  toplam += sayi\n",
        "  sayi += 1\n",
        "print(toplam)"
      ],
      "metadata": {
        "id": "iAcbiHlrlnW5"
      },
      "execution_count": null,
      "outputs": []
    },
    {
      "cell_type": "code",
      "source": [
        "# for ch in range (ord('A'), ord('Z') + 1):\n",
        "#   print(\"Büyük harfler: \", (ch))\n",
        "\n",
        "\n",
        "ch = 64\n",
        "while ch < ord('Z') + 1:\n",
        "  print(\"Büyük harfler: \", (ch))\n",
        "  ch += 1\n"
      ],
      "metadata": {
        "id": "cFrh4ZzOl-R_"
      },
      "execution_count": null,
      "outputs": []
    },
    {
      "cell_type": "code",
      "source": [
        "while True :\n",
        "  sayi = float(input(\"lütfens sayi giriniz\"))\n",
        "  print(sayi)\n",
        "  if sayi == 0:\n",
        "    print(\"lütfen 0 dan başka bir sayı giriniz\")\n",
        "    continue\n",
        "  elif sayi > 1:\n",
        "    print(\"sayı pozitif\")\n",
        "  else :\n",
        "    print(\"sayı negatif\")\n",
        "  break\n"
      ],
      "metadata": {
        "id": "PvquwVMSyvAo"
      },
      "execution_count": null,
      "outputs": []
    },
    {
      "cell_type": "code",
      "source": [
        "# i le 999 arasında yer alan tamsayıların toplamını yazdıran programın akış diagramını oluşturup python prograna dilinde yazın\n",
        "total = 0\n",
        "for i in range(2, 999):\n",
        "    total += i\n",
        "print(\"Toplam (döngü ile):\", total)"
      ],
      "metadata": {
        "id": "C7Axbox-3Yy6"
      },
      "execution_count": null,
      "outputs": []
    },
    {
      "cell_type": "code",
      "source": [
        "sayi = int(input(\"sayi giriniz\"))\n",
        "if sayi % 2 == 0:\n",
        "  print(\"sayi çift\")\n",
        "else:\n",
        "  print(\"sayi tek\")\n"
      ],
      "metadata": {
        "id": "tkE1x30isLjV"
      },
      "execution_count": null,
      "outputs": []
    },
    {
      "cell_type": "code",
      "source": [
        "sayi =int(input(\"sayi giriniz\"))\n",
        "if sayi < 0 :\n",
        "  sayi *= -1\n",
        "else:\n",
        "  print(sayi)\n"
      ],
      "metadata": {
        "id": "JiBBAFitvOKB"
      },
      "execution_count": null,
      "outputs": []
    },
    {
      "cell_type": "code",
      "source": [
        "sayix = int(input(\"sayi giriniz\"))\n",
        "sayiy = int(input(\"sayi giriniz\"))\n",
        "if sayix % sayiy == 0:\n",
        "  print(f\"{sayix} sayisi {sayiy} sayisina tam bölünür\")\n",
        "else:\n",
        "  print(f\"{sayix} sayisi {sayiy} sayisina tam bölünmez\")\n"
      ],
      "metadata": {
        "id": "4gkGE5S63lY9"
      },
      "execution_count": null,
      "outputs": []
    },
    {
      "cell_type": "code",
      "source": [
        "yıl = int(input(\"lütfen yıl giriniz\"))\n",
        "if yıl % 4 == 0:\n",
        "  print(\"artık yıl\")\n",
        "else:\n",
        "  print(\"atık yıl degil\")"
      ],
      "metadata": {
        "id": "ziYNiZ27-QW1"
      },
      "execution_count": null,
      "outputs": []
    },
    {
      "cell_type": "code",
      "source": [
        "sayi = 1\n",
        "while sayi <= 100:\n",
        "  kare_kok = int(sayi ** 0.5)\n",
        "  if kare_kok ** 2 == sayi:\n",
        "    print(sayi)\n",
        "  sayi += 1"
      ],
      "metadata": {
        "id": "j3F-3lkNQIpR"
      },
      "execution_count": null,
      "outputs": []
    },
    {
      "cell_type": "code",
      "source": [
        "try:\n",
        "  sayi = int(input(\"lütfen bir sayi giriniz\"))\n",
        "  print(sayi)\n",
        "except ValueError:\n",
        "  print(\"hatalı giriş\")\n",
        "else:\n",
        "  print(\"giriş işlemi başarılı\")\n",
        "finally:\n",
        "  print(\"başarıyla tamamlandı\")"
      ],
      "metadata": {
        "id": "hafZhxYZm2YS"
      },
      "execution_count": null,
      "outputs": []
    },
    {
      "cell_type": "code",
      "source": [
        "try:\n",
        "  s = 5/0\n",
        "  degisken = int(s)\n",
        "except ZeroDivisionError:\n",
        "    print(\"hatalı giriş\")\n",
        "else:\n",
        "    print(\"işlem tammalandı\")\n",
        "finally:\n",
        "    print(\"program bitti donusum sonucu =\", degisken)"
      ],
      "metadata": {
        "id": "GF9PJXxDuL7u"
      },
      "execution_count": null,
      "outputs": []
    },
    {
      "cell_type": "code",
      "source": [
        "while True :\n",
        "  sayi = float(input(\"lütfens sayi giriniz\"))\n",
        "  print(sayi)\n",
        "  if sayi == 0:\n",
        "    print(\"lütfen 0 dan başka bir sayı giriniz\")\n",
        "    continue\n",
        "  elif sayi > 1:\n",
        "    print(\"sayı pozitif\")\n",
        "  else :\n",
        "    print(\"sayı negatif\")\n",
        "  break"
      ],
      "metadata": {
        "id": "yoM_5Muh0aEK"
      },
      "execution_count": null,
      "outputs": []
    },
    {
      "cell_type": "code",
      "source": [
        "sayi = float(input(\"lütfen bir sayi giriniz\"))\n",
        "if sayi == 0:\n",
        "  print(\"sayı 0\")\n",
        "elif sayi < 0 :\n",
        "  print(\"sayı negatif\")\n",
        "else:\n",
        "  print(\"sayı pozitif\")"
      ],
      "metadata": {
        "id": "GevA4UGk0sA2"
      },
      "execution_count": null,
      "outputs": []
    },
    {
      "cell_type": "code",
      "source": [
        "sayi = float(input(\"lütfen bir sayi giriniz\"))\n",
        "if sayi <= 18:\n",
        "  print(\"reşit degilsin\")\n",
        "elif sayi < 65 :\n",
        "  print(\"calısma yasi\")\n",
        "else:\n",
        "  print(\"emekli olabilrsin\")\n"
      ],
      "metadata": {
        "id": "iCNLXnhC11Xy"
      },
      "execution_count": null,
      "outputs": []
    },
    {
      "cell_type": "code",
      "source": [
        "while True:\n",
        "    girdi = input(\"Bir sayı giriniz (çıkmak için q ya basın): \")\n",
        "\n",
        "    if girdi.lower() == 'q':\n",
        "        print(\"Programdan çıkılıyor...\")\n",
        "        break\n",
        "\n",
        "    try:\n",
        "        sayi = float(girdi)\n",
        "    except ValueError:\n",
        "        print(\"Hata: Girilen veri sayı değildir.\")\n",
        "        continue\n",
        "\n",
        "    if sayi == 0:\n",
        "        print(\"Sayı 0.\")\n",
        "    elif sayi < 0:\n",
        "        print(\"Sayı negatif.\")\n",
        "    else:\n",
        "        print(\"Sayı pozitif.\")\n"
      ],
      "metadata": {
        "id": "fO9cBCDa2CQU"
      },
      "execution_count": null,
      "outputs": []
    },
    {
      "cell_type": "code",
      "source": [
        "meyveler = [\"elma\", \"armut\", \"muz\"]\n",
        "print(meyveler[2])"
      ],
      "metadata": {
        "id": "68Xuy1N_3uZX"
      },
      "execution_count": null,
      "outputs": []
    },
    {
      "cell_type": "code",
      "source": [
        " sayilar = [10, 20, 30, 40, 50]\n",
        " toplam = sum(sayilar)\n",
        " toplamyeni = sum(sayilar) / len(sayilar)\n",
        " print(\"Toplam:\", toplam)\n",
        " print(f\"aritmetik ortalaması{toplamyeni}\")"
      ],
      "metadata": {
        "id": "hH_sYBem5BTR"
      },
      "execution_count": null,
      "outputs": []
    },
    {
      "cell_type": "code",
      "source": [
        "# List veri tipi örneği - 2) For ve if ile çift sayıları bulma\n",
        "liste = [2, 3, 5, 6, 8, 11, 14]\n",
        "numaralistesi = [] # Çift sayıları tutmak için boş liste\n",
        "for i in liste:\n",
        "  if i % 2 == 0:\n",
        "    numaralistesi.append(i)\n",
        "print(\"Listede bulunan çift sayılar:\", numaralistesi)\n",
        "print(\"Adet çift sayı\", len(numaralistesi), \"bulunmaktadır !!!\")"
      ],
      "metadata": {
        "id": "uh-q-QbZ6A0X"
      },
      "execution_count": null,
      "outputs": []
    },
    {
      "cell_type": "code",
      "source": [
        "liste = [1,2,3,4,5,11,16,21,37]\n",
        "print(liste)\n",
        "çift = []\n",
        "tek = []\n",
        "for i in liste:\n",
        "  if i % 2 == 0:\n",
        "    çift.append(i)\n",
        "  else:\n",
        "    tek.append(i)\n",
        "print(f\"çift sayılar {çift}\")\n",
        "print(f\"tek sayılar {tek}\")"
      ],
      "metadata": {
        "id": "urJL6OAPGq4W"
      },
      "execution_count": null,
      "outputs": []
    },
    {
      "cell_type": "code",
      "source": [
        " # List veri tipi örneği - 3) Malzeme Listesi\n",
        "liste = [\"elma\", \"muz\", \"çilek\", \"su\", \"cikolata\"] # Malzeme Listesi\n",
        "aranacak_urun = \"muz\" # Aranacak eleman\n",
        "if aranacak_urun in liste:\n",
        "    print(aranacak_urun, \"liste içerisinde mevcut.\")\n",
        "else:\n",
        "    print(aranacak_urun, \"liste içerisinde mevcut değil.\")"
      ],
      "metadata": {
        "id": "mAUS3i8NHLfa"
      },
      "execution_count": null,
      "outputs": []
    },
    {
      "cell_type": "code",
      "source": [
        "# List veri tipi örneği - 4) Malzeme Listesi\n",
        "liste = [\"elma\", \"muz\", \"çilek\", \"su\", \"cikolata\"]\n",
        "aranacak_urun = input(\"Aranacak Ürün Nedir? \") # Aranacak eleman\n",
        "if aranacak_urun in liste:\n",
        "  print(aranacak_urun, \"liste içerisinde mevcut.\")\n",
        "else:\n",
        "  print(aranacak_urun, \"liste içerisinde mevcut değil.\")"
      ],
      "metadata": {
        "id": "FzKXZGBhCIQK"
      },
      "execution_count": null,
      "outputs": []
    },
    {
      "cell_type": "code",
      "source": [
        "kitaplar = [\"sucveceza\", \"sefiller\", \"mobiling\",\"kiralıkkonak\",\"calıkusu\",\"1984\"]\n",
        "aranacak_kitap = input(\"adı girin\")\n",
        "if aranacak_kitap in kitaplar:\n",
        "  print(\"bu kitap var\")\n",
        "else:\n",
        "  print(\"bu kitap yok\")\n",
        "cevap = input(\"eklemek istermiisni\")\n",
        "\n",
        "if cevap == \"evet\":\n",
        "  kitaplar.append(aranacak_kitap)\n",
        "  print(kitaplar)\n",
        "else:\n",
        "  print(kitaplar)\n"
      ],
      "metadata": {
        "id": "zr129umHCWDF"
      },
      "execution_count": null,
      "outputs": []
    },
    {
      "cell_type": "code",
      "source": [
        "liste=[\"suç ve ceza\",\"sefiller\",\"kiralık konak\",\"çalıkuşu\",\"moby dick\",\"1984\"]\n",
        "kitap=input(\"kitap giriniz\")\n",
        "if kitap in liste:\n",
        "  print(kitap,\"listede mevcut\")\n",
        "else:\n",
        "  print(kitap,\"listede mevcut değil\")\n",
        "cevap=input(\"kitap eklemek istiyor musunuz evet/hayır\")\n",
        "if cevap==\"evet\":\n",
        "     liste.append(kitap)\n",
        "print(liste)"
      ],
      "metadata": {
        "id": "IoyAzxktEScI"
      },
      "execution_count": null,
      "outputs": []
    },
    {
      "cell_type": "code",
      "source": [
        "# Demet veri tipi örneği - 1) Haftanın günlerini bir demet içinde tanımlama\n",
        "hafta_gunleri = (\"Pazartesi\", \"Salı\", \"Çarşamba\", \"Perşembe\", \"Cuma\", \"Cumartesi\", \"Pazar\")\n",
        "# Elemanları yazdırma\n",
        "print(\"Haftanın günleri:\")\n",
        "for gun in hafta_gunleri:\n",
        "  print(gun)"
      ],
      "metadata": {
        "id": "sxtyyl-BKVXs",
        "colab": {
          "base_uri": "https://localhost:8080/"
        },
        "outputId": "6a1f4d61-1039-42c2-da89-ba0e24bb5f98"
      },
      "execution_count": null,
      "outputs": [
        {
          "output_type": "stream",
          "name": "stdout",
          "text": [
            "Haftanın günleri:\n",
            "Pazartesi\n",
            "Salı\n",
            "Çarşamba\n",
            "Perşembe\n",
            "Cuma\n",
            "Cumartesi\n",
            "Pazar\n"
          ]
        }
      ]
    },
    {
      "cell_type": "code",
      "source": [
        "# Demet veri tipi örneği - 2) Öğrencilerin adları ve notları bir demette saklanıyor\n",
        "ogrenciler = (\n",
        "(\"Ali\", (85, 90, 78)),\n",
        "(\"Ayşe\", (88, 76, 92)),\n",
        "(\"Mehmet\", (70, 85, 80)),\n",
        "(\"Zeynep\", (95, 90, 93))\n",
        ")\n",
        "# Her öğrencinin ortalama notunu hesaplama\n",
        "for ogrenci in ogrenciler:\n",
        "  isim = ogrenci[0]\n",
        "  notlar = ogrenci[1]\n",
        "  ortalama = sum(notlar) / len(notlar)\n",
        "  print(isim, \" adlı öğrencinin ortalaması: \", ortalama)\n"
      ],
      "metadata": {
        "colab": {
          "base_uri": "https://localhost:8080/"
        },
        "id": "5SQrmKZKLmUv",
        "outputId": "9eaff185-f629-45fe-d5df-9066ee75f1d3"
      },
      "execution_count": null,
      "outputs": [
        {
          "output_type": "stream",
          "name": "stdout",
          "text": [
            "Ali  adlı öğrencinin ortalaması:  84.33333333333333\n",
            "Ayşe  adlı öğrencinin ortalaması:  85.33333333333333\n",
            "Mehmet  adlı öğrencinin ortalaması:  78.33333333333333\n",
            "Zeynep  adlı öğrencinin ortalaması:  92.66666666666667\n"
          ]
        }
      ]
    },
    {
      "cell_type": "code",
      "source": [],
      "metadata": {
        "id": "d_YXAnKfYDGD"
      },
      "execution_count": null,
      "outputs": []
    }
  ]
}